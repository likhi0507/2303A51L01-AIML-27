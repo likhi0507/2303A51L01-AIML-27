{
  "cells": [
    {
      "cell_type": "code",
      "execution_count": 3,
      "metadata": {
        "colab": {
          "base_uri": "https://localhost:8080/"
        },
        "id": "4SyfczjD6S8t",
        "outputId": "2bc6e861-21c0-41e0-d16c-91129879676b"
      },
      "outputs": [
        {
          "name": "stdout",
          "output_type": "stream",
          "text": [
            "list =  [1, 2, 3]\n",
            "array =  [1 2 3]\n"
          ]
        },
        {
          "data": {
            "text/plain": [
              "numpy.ndarray"
            ]
          },
          "execution_count": 3,
          "metadata": {},
          "output_type": "execute_result"
        }
      ],
      "source": [
        "import numpy as np\n",
        "lst1=[1,2,3]\n",
        "array1 = np.array(lst1)\n",
        "print(\"list = \",lst1)\n",
        "print(\"array = \",array1)\n",
        "type(lst1)\n",
        "type(array1)"
      ]
    },
    {
      "cell_type": "code",
      "execution_count": 10,
      "metadata": {
        "colab": {
          "base_uri": "https://localhost:8080/"
        },
        "id": "wiTxA-f2AiSr",
        "outputId": "817c46fd-c1bd-4f8e-d381-ac25c2cb5b2c"
      },
      "outputs": [
        {
          "data": {
            "text/plain": [
              "list"
            ]
          },
          "execution_count": 10,
          "metadata": {},
          "output_type": "execute_result"
        }
      ],
      "source": [
        "type(lst1)"
      ]
    },
    {
      "cell_type": "code",
      "execution_count": 6,
      "metadata": {
        "colab": {
          "base_uri": "https://localhost:8080/"
        },
        "id": "cRJHtcASA1S9",
        "outputId": "d1765c29-14e3-4dfb-e61f-68b429b53738"
      },
      "outputs": [
        {
          "name": "stdout",
          "output_type": "stream",
          "text": [
            "array2 multiplied by array1:  [20 40 60]\n",
            "array2 divided by array1:  [0.2        0.1        0.06666667]\n",
            "array2 raised to the power of array1:  [      1024    1048576 1073741824]\n",
            "adding two numpy arrays {array1} together:  [12 22 32]\n"
          ]
        }
      ],
      "source": [
        "import numpy as np\n",
        "array1=np.array([10,20,30])\n",
        "array2=np.array([2,2,2])\n",
        "\n",
        "print(\"array2 multiplied by array1: \",array1*array2)\n",
        "print(\"array2 divided by array1: \",array2/array1)\n",
        "print(\"array2 raised to the power of array1: \",array2**array1)\n",
        "print(\"adding two numpy arrays {array1} together: \", array1+array2)\n"
      ]
    },
    {
      "cell_type": "code",
      "execution_count": 8,
      "metadata": {
        "colab": {
          "base_uri": "https://localhost:8080/"
        },
        "id": "Kpu9iN5DCM9P",
        "outputId": "af7c3295-61ae-4e4a-fb64-80366c928477"
      },
      "outputs": [
        {
          "name": "stdout",
          "output_type": "stream",
          "text": [
            "Sine:  [-0.54402111  0.91294525 -0.98803162]\n",
            "Natural logarithm:  [2.30258509 2.99573227 3.40119738]\n",
            "Base-10 logarithm:  [1.         1.30103    1.47712125]\n",
            "Base-2 lo0garithm:  [3.32192809 4.32192809 4.9068906 ]\n",
            "Exponential:  [2.20264658e+04 4.85165195e+08 1.06864746e+13]\n"
          ]
        }
      ],
      "source": [
        "import numpy as np\n",
        "array1=np.array([10,20,30])\n",
        "# sine function\n",
        "print(\"Sine: \",np.sin(array1))\n",
        "# logarithm\n",
        "print(\"Natural logarithm: \",np.log(array1))\n",
        "print(\"Base-10 logarithm: \",np.log10(array1))\n",
        "print(\"Base-2 lo0garithm: \",np.log2(array1))\n",
        "# Exponential\n",
        "print(\"Exponential: \",np.exp(array1))\n",
        "\n"
      ]
    }
  ],
  "metadata": {
    "colab": {
      "provenance": [],
      "toc_visible": true
    },
    "kernelspec": {
      "display_name": "Python 3",
      "name": "python3"
    },
    "language_info": {
      "name": "python"
    }
  },
  "nbformat": 4,
  "nbformat_minor": 0
}
